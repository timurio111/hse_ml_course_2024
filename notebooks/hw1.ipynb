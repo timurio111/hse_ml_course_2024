{
 "cells": [
  {
   "cell_type": "markdown",
   "metadata": {},
   "source": [
    "Задача 1\n",
    "\n",
    "Написать функцию, которая на вход принимает список, а возвращает словарь со среднием, медианой и модой, например вот такой: {\"mean\": ..., \"median\": ..., \"mode\": ...}.\n",
    "\n",
    "Пример:\n",
    "\n",
    "func([0, 1, 1, 10, 5, 4, 3])\n",
    "\n",
    "# Должно вернуть: {\"mean\": 3.4285, \"median\": 3, \"mode\": 1}"
   ]
  },
  {
   "cell_type": "code",
   "execution_count": 11,
   "metadata": {},
   "outputs": [
    {
     "data": {
      "text/plain": [
       "{'mean': 3.4285714285714284, 'median': 3.0, 'mode': 1}"
      ]
     },
     "execution_count": 11,
     "metadata": {},
     "output_type": "execute_result"
    }
   ],
   "source": [
    "def func(arr : list) -> dict:\n",
    "    output = {\"mean\": 0, \"median\": 0, \"mode\": 0}\n",
    "    sorted_arr = sorted(arr)\n",
    "    \n",
    "    output[\"mean\"] = sum(arr)/len(arr)\n",
    "    output[\"median\"] = (sorted_arr[len(arr) // 2] + sorted_arr[len(arr)//2 - 1 * (len(arr)%2 == 0)]) / 2\n",
    "    new_arr = [[arr.count(num), num] for num in arr]\n",
    "    output[\"mode\"] = sorted(new_arr)[-1][1]\n",
    "    return output"
   ]
  },
  {
   "cell_type": "markdown",
   "metadata": {},
   "source": [
    "Написать функцию, которая будет парсить csv-файл dota_hero_stats.csv\n",
    "\n",
    "Сигнатура функции:\n",
    "\n",
    "def parse_csv(file_content: str) -> List[Dict]\n",
    "Найти персонажа с максимальным количеством ног (сторонние библиотеки использовать нельзя)"
   ]
  },
  {
   "cell_type": "code",
   "execution_count": 90,
   "metadata": {},
   "outputs": [
    {
     "name": "stdout",
     "output_type": "stream",
     "text": [
      "[]\n"
     ]
    },
    {
     "ename": "TypeError",
     "evalue": "'NoneType' object is not iterable",
     "output_type": "error",
     "traceback": [
      "\u001b[0;31m---------------------------------------------------------------------------\u001b[0m",
      "\u001b[0;31mTypeError\u001b[0m                                 Traceback (most recent call last)",
      "Cell \u001b[0;32mIn[90], line 40\u001b[0m\n\u001b[1;32m     37\u001b[0m     name, legs_amount \u001b[38;5;241m=\u001b[39m hero_data[\u001b[38;5;124m\"\u001b[39m\u001b[38;5;124mlocalized_name\u001b[39m\u001b[38;5;124m\"\u001b[39m], hero_data[\u001b[38;5;124m\"\u001b[39m\u001b[38;5;124mlegs\u001b[39m\u001b[38;5;124m\"\u001b[39m] \n\u001b[1;32m     38\u001b[0m     \u001b[38;5;28mprint\u001b[39m(\u001b[38;5;124mf\u001b[39m\u001b[38;5;124m\"\u001b[39m\u001b[38;5;124mУ нашей ПАУЧИХИ \u001b[39m\u001b[38;5;132;01m{\u001b[39;00mname\u001b[38;5;132;01m}\u001b[39;00m\u001b[38;5;124m целых \u001b[39m\u001b[38;5;132;01m{\u001b[39;00mlegs_amount\u001b[38;5;132;01m}\u001b[39;00m\u001b[38;5;124m ЛАПОК!!\u001b[39m\u001b[38;5;124m\"\u001b[39m)\n\u001b[0;32m---> 40\u001b[0m \u001b[43mget_hero_with_max_legs\u001b[49m\u001b[43m(\u001b[49m\u001b[43mparse_csv\u001b[49m\u001b[43m(\u001b[49m\u001b[38;5;124;43m\"\u001b[39;49m\u001b[38;5;124;43m../data/dota_hero_stats.csv\u001b[39;49m\u001b[38;5;124;43m\"\u001b[39;49m\u001b[43m)\u001b[49m\u001b[43m)\u001b[49m\n",
      "Cell \u001b[0;32mIn[90], line 36\u001b[0m, in \u001b[0;36mget_hero_with_max_legs\u001b[0;34m(data)\u001b[0m\n\u001b[1;32m     35\u001b[0m \u001b[38;5;28;01mdef\u001b[39;00m \u001b[38;5;21mget_hero_with_max_legs\u001b[39m(data: \u001b[38;5;28mlist\u001b[39m[\u001b[38;5;28mdict\u001b[39m]) \u001b[38;5;241m-\u001b[39m\u001b[38;5;241m>\u001b[39m \u001b[38;5;28;01mNone\u001b[39;00m:\n\u001b[0;32m---> 36\u001b[0m     hero_data \u001b[38;5;241m=\u001b[39m \u001b[38;5;28;43mmax\u001b[39;49m\u001b[43m(\u001b[49m\u001b[43mdata\u001b[49m\u001b[43m,\u001b[49m\u001b[43m \u001b[49m\u001b[43mkey\u001b[49m\u001b[38;5;241;43m=\u001b[39;49m\u001b[38;5;28;43;01mlambda\u001b[39;49;00m\u001b[43m \u001b[49m\u001b[43mx\u001b[49m\u001b[43m:\u001b[49m\u001b[43m \u001b[49m\u001b[38;5;28;43mint\u001b[39;49m\u001b[43m(\u001b[49m\u001b[43mx\u001b[49m\u001b[38;5;241;43m.\u001b[39;49m\u001b[43mget\u001b[49m\u001b[43m(\u001b[49m\u001b[38;5;124;43m'\u001b[39;49m\u001b[38;5;124;43mlegs\u001b[39;49m\u001b[38;5;124;43m'\u001b[39;49m\u001b[43m,\u001b[49m\u001b[43m \u001b[49m\u001b[38;5;241;43m0\u001b[39;49m\u001b[43m)\u001b[49m\u001b[43m)\u001b[49m\u001b[43m)\u001b[49m\n\u001b[1;32m     37\u001b[0m     name, legs_amount \u001b[38;5;241m=\u001b[39m hero_data[\u001b[38;5;124m\"\u001b[39m\u001b[38;5;124mlocalized_name\u001b[39m\u001b[38;5;124m\"\u001b[39m], hero_data[\u001b[38;5;124m\"\u001b[39m\u001b[38;5;124mlegs\u001b[39m\u001b[38;5;124m\"\u001b[39m] \n\u001b[1;32m     38\u001b[0m     \u001b[38;5;28mprint\u001b[39m(\u001b[38;5;124mf\u001b[39m\u001b[38;5;124m\"\u001b[39m\u001b[38;5;124mУ нашей ПАУЧИХИ \u001b[39m\u001b[38;5;132;01m{\u001b[39;00mname\u001b[38;5;132;01m}\u001b[39;00m\u001b[38;5;124m целых \u001b[39m\u001b[38;5;132;01m{\u001b[39;00mlegs_amount\u001b[38;5;132;01m}\u001b[39;00m\u001b[38;5;124m ЛАПОК!!\u001b[39m\u001b[38;5;124m\"\u001b[39m)\n",
      "\u001b[0;31mTypeError\u001b[0m: 'NoneType' object is not iterable"
     ]
    }
   ],
   "source": [
    "def processing_file(path: str):\n",
    "    with open(\"../data/dota_hero_stats.csv\") as f:\n",
    "        data = f.read()\n",
    "    def decorator(func):\n",
    "        def wrapper(data):\n",
    "            func(data)\n",
    "        return wrapper\n",
    "    return decorator\n",
    "\n",
    "path = \"../data/dota_hero_stats.csv\"\n",
    "\n",
    "@processing_file(path=path)\n",
    "def parse_csv(file_content: str) -> list[dict]:\n",
    "    lines = file_content.split('\\n')\n",
    "    keys = lines[0].split(sep=\",\")\n",
    "    output = []\n",
    "    for _ in range(1, len(lines)):\n",
    "        line = lines[_]\n",
    "        parsed_line = []\n",
    "        is_array = False\n",
    "        word = \"\"\n",
    "        for elem in line:\n",
    "            if elem == '\"':\n",
    "                is_array = not is_array\n",
    "            elif elem == \",\" and not is_array:\n",
    "                parsed_line.append(word)\n",
    "                word = \"\"\n",
    "            else:\n",
    "                word += elem\n",
    "        parsed_line.append(word)\n",
    "        output.append(dict(zip(keys, parsed_line)))\n",
    "    print(output)\n",
    "    return output\n",
    "\n",
    "def get_hero_with_max_legs(data: list[dict]) -> None:\n",
    "    hero_data = max(data, key=lambda x: int(x.get('legs', 0)))\n",
    "    name, legs_amount = hero_data[\"localized_name\"], hero_data[\"legs\"] \n",
    "    print(f\"У нашей ПАУЧИХИ {name} целых {legs_amount} ЛАПОК!!\")\n",
    "\n",
    "get_hero_with_max_legs(parse_csv(\"../data/dota_hero_stats.csv\"))\n",
    "\n",
    "\n",
    "\n"
   ]
  },
  {
   "cell_type": "code",
   "execution_count": null,
   "metadata": {},
   "outputs": [],
   "source": []
  }
 ],
 "metadata": {
  "kernelspec": {
   "display_name": "Python 3",
   "language": "python",
   "name": "python3"
  },
  "language_info": {
   "codemirror_mode": {
    "name": "ipython",
    "version": 3
   },
   "file_extension": ".py",
   "mimetype": "text/x-python",
   "name": "python",
   "nbconvert_exporter": "python",
   "pygments_lexer": "ipython3",
   "version": "3.11.7"
  }
 },
 "nbformat": 4,
 "nbformat_minor": 2
}
