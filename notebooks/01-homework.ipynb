{
 "cells": [
  {
   "cell_type": "markdown",
   "metadata": {},
   "source": [
    "1. Написать функцию, которая на вход принимает список, а возвращает словарь со среднием, медианой и модой, например вот такой: {\"mean\": ..., \"median\": ..., \"mode\": ...}.\n",
    "\n",
    "Пример:\n",
    "\n",
    "func([0, 1, 1, 10, 5, 4, 3])\n",
    "\n",
    "# Должно вернуть: {\"mean\": 3.4285, \"median\": 3, \"mode\": 1}"
   ]
  },
  {
   "cell_type": "code",
   "execution_count": 1,
   "metadata": {
    "is_executing": true
   },
   "outputs": [],
   "source": [
    "def func(arr : list) -> dict:\n",
    "    output = {\"mean\": 0, \"median\": 0, \"mode\": 0}\n",
    "    sorted_arr = sorted(arr)\n",
    "    \n",
    "    output[\"mean\"] = sum(arr)/len(arr)\n",
    "    output[\"median\"] = (sorted_arr[len(arr) // 2] + sorted_arr[len(arr)//2 - 1 * (len(arr)%2 == 0)]) / 2\n",
    "    new_arr = [[arr.count(num), num] for num in arr]\n",
    "    output[\"mode\"] = sorted(new_arr)[-1][1]\n",
    "    return output"
   ]
  },
  {
   "cell_type": "code",
   "execution_count": 2,
   "metadata": {
    "collapsed": false,
    "is_executing": true
   },
   "outputs": [],
   "source": [
    "import random\n",
    "import numpy as np\n",
    "from scipy import stats as st\n",
    "\n",
    "n = 100\n",
    "for _ in range(n):\n",
    "    k = random.randint(1, 10000)\n",
    "    array = random.sample(range(0, k), k)\n",
    "    test_dict = func(array)\n",
    "    np_mean, np_median, st_mode = np.mean(array), np.median(array), st.mode(array)[0]\n",
    "    assert(test_dict[\"mean\"] == np_mean)\n",
    "    assert(test_dict[\"median\"] == np_median)\n",
    "    assert(test_dict[\"mode\"] == st_mode or (array.count(st_mode) == array.count(test_dict[\"mode\"])))\n",
    "    # второе условие, если числа в листе не повторяются"
   ]
  },
  {
   "cell_type": "markdown",
   "metadata": {},
   "source": [
    "2. Написать функцию, которая будет парсить csv-файл dota_hero_stats.csv\n",
    "\n",
    "Сигнатура функции:\n",
    "\n",
    "def parse_csv(file_content: str) -> List[Dict]\n",
    "Найти персонажа с максимальным количеством ног (сторонние библиотеки использовать нельзя)"
   ]
  },
  {
   "cell_type": "code",
   "execution_count": 3,
   "metadata": {},
   "outputs": [
    {
     "name": "stdout",
     "output_type": "stream",
     "text": [
      "У нашей ПАУЧИХИ Broodmother целых 8 ЛАПОК!!\n"
     ]
    }
   ],
   "source": [
    "def parse_csv(file_content: str) -> list[dict]:\n",
    "    lines = file_content.split('\\n')\n",
    "    keys = lines[0].split(sep=\",\")\n",
    "    output = []\n",
    "    for _ in range(1, len(lines)):\n",
    "        line = lines[_]\n",
    "        parsed_line = []\n",
    "        is_array = False\n",
    "        word = \"\"\n",
    "        for elem in line:\n",
    "            if elem == '\"':\n",
    "                is_array = not is_array\n",
    "            elif elem == \",\" and not is_array:\n",
    "                parsed_line.append(word)\n",
    "                word = \"\"\n",
    "            else:\n",
    "                word += elem\n",
    "        parsed_line.append(word)\n",
    "        output.append(dict(zip(keys, parsed_line)))\n",
    "    return output\n",
    "\n",
    "def processing_file(path: str) -> str:\n",
    "    with open(path) as f:\n",
    "        data = parse_csv(f.read())\n",
    "    return data\n",
    "\n",
    "def get_hero_with_max_legs(data: list[dict]) -> None:\n",
    "    hero_data = max(data, key=lambda x: int(x.get('legs', 0)))\n",
    "    name, legs_amount = hero_data[\"localized_name\"], hero_data[\"legs\"] \n",
    "    print(f\"У нашей ПАУЧИХИ {name} целых {legs_amount} ЛАПОК!!\")\n",
    "\n",
    "path = \"../data/dota_hero_stats.csv\"\n",
    "get_hero_with_max_legs(processing_file(path))\n",
    "\n"
   ]
  }
 ],
 "metadata": {
  "kernelspec": {
   "display_name": "Python 3",
   "language": "python",
   "name": "python3"
  },
  "language_info": {
   "codemirror_mode": {
    "name": "ipython",
    "version": 3
   },
   "file_extension": ".py",
   "mimetype": "text/x-python",
   "name": "python",
   "nbconvert_exporter": "python",
   "pygments_lexer": "ipython3",
   "version": "3.11.7"
  }
 },
 "nbformat": 4,
 "nbformat_minor": 2
}
